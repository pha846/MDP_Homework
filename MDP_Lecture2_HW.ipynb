{
 "cells": [
  {
   "cell_type": "code",
   "execution_count": 1,
   "metadata": {},
   "outputs": [],
   "source": [
    "import sympy as sp\n",
    "import numpy as np"
   ]
  },
  {
   "cell_type": "code",
   "execution_count": 2,
   "metadata": {},
   "outputs": [],
   "source": [
    "import sympy.vector"
   ]
  },
  {
   "cell_type": "code",
   "execution_count": 3,
   "metadata": {},
   "outputs": [],
   "source": [
    "from IPython.display import display"
   ]
  },
  {
   "cell_type": "code",
   "execution_count": 4,
   "metadata": {},
   "outputs": [],
   "source": [
    "N = sp.vector.CoordSys3D('N')"
   ]
  },
  {
   "cell_type": "code",
   "execution_count": 5,
   "metadata": {},
   "outputs": [],
   "source": [
    "class Node:\n",
    "    def __init__(self, tup):\n",
    "        x, y, z = tup\n",
    "        self.position = x*N.i + y*N.j + z*N.k\n",
    "        \n",
    "    def __sub__(self, other):\n",
    "        return self.position - other.position"
   ]
  },
  {
   "cell_type": "code",
   "execution_count": 6,
   "metadata": {},
   "outputs": [],
   "source": [
    "class Force:\n",
    "    def __init__(self, input1, input2):\n",
    "        \"\"\"\n",
    "        input1 must be a starting point/node\n",
    "        input2 can be another node to be an end point, or force vector\n",
    "        \"\"\"\n",
    "        assert type(input1) == Node\n",
    "        self.start_position = input1.position\n",
    "        self.unique_symbols = set()\n",
    "        \n",
    "        if type(input2) == Node:\n",
    "            diff_vector = input2 - input1\n",
    "            self.force_vector = diff_vector / np.linalg.norm(diff_vector)\n",
    "        elif type(input2) == sp.vector.vector.BaseVector:\n",
    "            self.force_vector = input2\n",
    "        else:\n",
    "            fx, fy, fz = input2\n",
    "            mx = my = mz = 1\n",
    "            if type(fx) == tuple:\n",
    "                mx, fx = fx\n",
    "            if type(fx) == str:\n",
    "                fx = sp.Symbol(fx)\n",
    "                self.unique_symbols.add(fx)\n",
    "                \n",
    "            if type(fy) == tuple:\n",
    "                my, fy = fy\n",
    "            if type(fy) == str:\n",
    "                fy = sp.Symbol(fy)\n",
    "                self.unique_symbols.add(fy)\n",
    "                \n",
    "            if type(fz) == tuple:\n",
    "                mz, fz = fz\n",
    "            if type(fz) == str:\n",
    "                fz = sp.Symbol(fz)\n",
    "                self.unique_symbols.add(fz)\n",
    "                \n",
    "            self.force_vector = mx*fx*N.i + my*fy*N.j + mz*fz*N.k\n",
    "        self.torque_vector = sp.vector.cross(self.start_position, self.force_vector)"
   ]
  },
  {
   "cell_type": "code",
   "execution_count": 7,
   "metadata": {},
   "outputs": [],
   "source": [
    "def solve_sum_zero(forces_eq_0, exclude_list = [], additional_symbols = [], additional_eqs = [], only_torque = False):\n",
    "    unique_symbols = set()\n",
    "    sym_zero = 0*(N.i+N.j+N.k)\n",
    "    force_eq_0 = 0*(N.i+N.j+N.k)\n",
    "    torque_eq_0 = 0*(N.i+N.j+N.k)\n",
    "    for i in forces_eq_0:\n",
    "        unique_symbols |= i.unique_symbols\n",
    "        force_eq_0 += i.force_vector\n",
    "        torque_eq_0 += i.torque_vector\n",
    "    for i in exclude_list:\n",
    "        ii = sp.Symbol(i)\n",
    "        if ii in unique_symbols:\n",
    "            unique_symbols.remove(ii)\n",
    "    symbols = list(unique_symbols)\n",
    "    equations = []\n",
    "    if not only_torque:\n",
    "        for cp in force_eq_0.components:\n",
    "            equations.append(sp.Eq(force_eq_0.components[cp], 0))\n",
    "    for cp in torque_eq_0.components:\n",
    "        equations.append(sp.Eq(torque_eq_0.components[cp], 0))\n",
    "    equations += additional_eqs\n",
    "    symbols += additional_symbols\n",
    "    solved = sp.solve(equations, symbols)\n",
    "    if type(solved) == list:\n",
    "        print(\"Cannot find answer\")\n",
    "        print(equations)\n",
    "    else:\n",
    "        for k in sorted(list(solved.keys()), key=lambda x: str(x)):\n",
    "            display(sp.Eq(k, solved[k]))"
   ]
  },
  {
   "cell_type": "markdown",
   "metadata": {},
   "source": [
    "# Homework 1"
   ]
  },
  {
   "cell_type": "code",
   "execution_count": 8,
   "metadata": {},
   "outputs": [],
   "source": [
    "x = sp.Symbol('x')\n",
    "y = sp.Symbol('y')\n",
    "z = sp.Symbol('z')\n",
    "F = sp.Symbol('F')\n",
    "A = Node((0, y, 0))\n",
    "B = Node((0, 0, z))\n",
    "C = Node((x, 0, 0))\n",
    "F_A = Force(A, (F, 0, 0))\n",
    "F_B = Force(B, (0, F, 0))\n",
    "F_C = Force(C, (0, 0, F))\n",
    "\n",
    "px, py, pz = sp.symbols('P_x P_y P_z')\n",
    "# Balance node\n",
    "P = Node((px, py, pz))\n",
    "F_P = Force(P, (-F, -F, -F))"
   ]
  },
  {
   "cell_type": "code",
   "execution_count": 9,
   "metadata": {},
   "outputs": [
    {
     "data": {
      "text/latex": [
       "$\\displaystyle (- F P_{y} + F P_{z})\\mathbf{\\hat{i}_{N}} + (F P_{x} - F P_{z})\\mathbf{\\hat{j}_{N}} + (- F P_{x} + F P_{y})\\mathbf{\\hat{k}_{N}}$"
      ],
      "text/plain": [
       "(-F*P_y + F*P_z)*N.i + (F*P_x - F*P_z)*N.j + (-F*P_x + F*P_y)*N.k"
      ]
     },
     "execution_count": 9,
     "metadata": {},
     "output_type": "execute_result"
    }
   ],
   "source": [
    "F_P.torque_vector"
   ]
  },
  {
   "cell_type": "code",
   "execution_count": 10,
   "metadata": {},
   "outputs": [
    {
     "name": "stdout",
     "output_type": "stream",
     "text": [
      "Cannot find answer\n",
      "[Eq(-F*P_x + F*P_y - F*y, 0), Eq(-F*P_y + F*P_z - F*z, 0), Eq(F*P_x - F*P_z - F*x, 0), Eq(x + y + z, 0)]\n"
     ]
    }
   ],
   "source": [
    "solve_sum_zero([F_A, F_B, F_C, F_P], [], [px, py, pz], [sp.Eq(x+y+z,0)], False) #, [sp.Eq(fpx**2+fpy**2+fpz**2, F**2)])"
   ]
  },
  {
   "cell_type": "markdown",
   "metadata": {},
   "source": [
    "We cannot find the answer that results in \"balanced\" torque."
   ]
  },
  {
   "cell_type": "markdown",
   "metadata": {},
   "source": [
    "# Homework 2"
   ]
  },
  {
   "cell_type": "code",
   "execution_count": 11,
   "metadata": {},
   "outputs": [],
   "source": [
    "l = 1\n",
    "a = 0.5\n",
    "theta = np.deg2rad(30)\n",
    "alpha = np.deg2rad(30)\n",
    "mag_F_F = 10"
   ]
  },
  {
   "cell_type": "code",
   "execution_count": 12,
   "metadata": {},
   "outputs": [],
   "source": [
    "A = Node((0, 0, -l))\n",
    "B = Node((0, 0, l))\n",
    "A_unknown = Node((0, 0, -sp.Symbol('l')))\n",
    "B_unknown = Node((0, 0, sp.Symbol('l')))\n",
    "D = Node((-a*sp.sin(theta), -a*sp.cos(theta), 0))\n",
    "D_unknown = Node((-sp.Symbol('a')*sp.sin(sp.Symbol('\\\\theta')), -sp.Symbol('a')*sp.cos(sp.Symbol('\\\\theta')), 0))\n",
    "E = Node((a, 0, 0))"
   ]
  },
  {
   "cell_type": "code",
   "execution_count": 13,
   "metadata": {},
   "outputs": [],
   "source": [
    "F_A = Force(A, ('F_{Ax}', 'F_{Ay}', 'F_{Az}'))\n",
    "F_B = Force(B, ('F_{Bx}', 'F_{By}', 0))\n",
    "F_A_unknown = Force(A_unknown, ('F_{Ax}', 'F_{Ay}', 'F_{Az}'))\n",
    "F_B_unknown = Force(B_unknown, ('F_{Bx}', 'F_{By}', 0))\n",
    "F_F_known = Force(D, (0, -sp.sin(alpha)*mag_F_F, -sp.cos(alpha) * mag_F_F))\n",
    "F_F_unknown = Force(D, (0, (-sp.sin(alpha), 'F_F'),  (-sp.cos(alpha), 'F_F')))\n",
    "F_F_all_unknown = Force(D_unknown, (0, (-sp.sin(sp.Symbol('\\\\alpha')), 'F_F'),  (-sp.cos(sp.Symbol('\\\\alpha')), 'F_F')))\n",
    "F_P = Force(E, (0, 'F_P', 0))"
   ]
  },
  {
   "cell_type": "markdown",
   "metadata": {},
   "source": [
    "## All known values"
   ]
  },
  {
   "cell_type": "code",
   "execution_count": 14,
   "metadata": {},
   "outputs": [
    {
     "data": {
      "text/latex": [
       "$\\displaystyle F_{P} = -2.5$"
      ],
      "text/plain": [
       "Eq(F_P, -2.5)"
      ]
     },
     "metadata": {},
     "output_type": "display_data"
    },
    {
     "data": {
      "text/latex": [
       "$\\displaystyle F_{Ax} = -1.08253175473055$"
      ],
      "text/plain": [
       "Eq(F_{Ax}, -1.08253175473055)"
      ]
     },
     "metadata": {},
     "output_type": "display_data"
    },
    {
     "data": {
      "text/latex": [
       "$\\displaystyle F_{Ay} = 1.875$"
      ],
      "text/plain": [
       "Eq(F_{Ay}, 1.875)"
      ]
     },
     "metadata": {},
     "output_type": "display_data"
    },
    {
     "data": {
      "text/latex": [
       "$\\displaystyle F_{Az} = 8.66025403784439$"
      ],
      "text/plain": [
       "Eq(F_{Az}, 8.66025403784439)"
      ]
     },
     "metadata": {},
     "output_type": "display_data"
    },
    {
     "data": {
      "text/latex": [
       "$\\displaystyle F_{Bx} = 1.08253175473055$"
      ],
      "text/plain": [
       "Eq(F_{Bx}, 1.08253175473055)"
      ]
     },
     "metadata": {},
     "output_type": "display_data"
    },
    {
     "data": {
      "text/latex": [
       "$\\displaystyle F_{By} = 5.625$"
      ],
      "text/plain": [
       "Eq(F_{By}, 5.625)"
      ]
     },
     "metadata": {},
     "output_type": "display_data"
    }
   ],
   "source": [
    "solve_sum_zero([F_A, F_B, F_F_known, F_P])"
   ]
  },
  {
   "cell_type": "markdown",
   "metadata": {},
   "source": [
    "## All known values, except $\\vec{F_F}$"
   ]
  },
  {
   "cell_type": "code",
   "execution_count": 15,
   "metadata": {},
   "outputs": [
    {
     "data": {
      "text/latex": [
       "$\\displaystyle F_{P} = - 0.25 F_{F}$"
      ],
      "text/plain": [
       "Eq(F_P, -0.25*F_F)"
      ]
     },
     "metadata": {},
     "output_type": "display_data"
    },
    {
     "data": {
      "text/latex": [
       "$\\displaystyle F_{Ax} = - 0.108253175473055 F_{F}$"
      ],
      "text/plain": [
       "Eq(F_{Ax}, -0.108253175473055*F_F)"
      ]
     },
     "metadata": {},
     "output_type": "display_data"
    },
    {
     "data": {
      "text/latex": [
       "$\\displaystyle F_{Ay} = 0.1875 F_{F}$"
      ],
      "text/plain": [
       "Eq(F_{Ay}, 0.1875*F_F)"
      ]
     },
     "metadata": {},
     "output_type": "display_data"
    },
    {
     "data": {
      "text/latex": [
       "$\\displaystyle F_{Az} = 0.866025403784439 F_{F}$"
      ],
      "text/plain": [
       "Eq(F_{Az}, 0.866025403784439*F_F)"
      ]
     },
     "metadata": {},
     "output_type": "display_data"
    },
    {
     "data": {
      "text/latex": [
       "$\\displaystyle F_{Bx} = 0.108253175473055 F_{F}$"
      ],
      "text/plain": [
       "Eq(F_{Bx}, 0.108253175473055*F_F)"
      ]
     },
     "metadata": {},
     "output_type": "display_data"
    },
    {
     "data": {
      "text/latex": [
       "$\\displaystyle F_{By} = 0.5625 F_{F}$"
      ],
      "text/plain": [
       "Eq(F_{By}, 0.5625*F_F)"
      ]
     },
     "metadata": {},
     "output_type": "display_data"
    }
   ],
   "source": [
    "solve_sum_zero([F_A, F_B, F_F_unknown, F_P], ['F_F'])"
   ]
  },
  {
   "cell_type": "markdown",
   "metadata": {},
   "source": [
    "## All unknown"
   ]
  },
  {
   "cell_type": "code",
   "execution_count": 16,
   "metadata": {},
   "outputs": [
    {
     "data": {
      "text/latex": [
       "$\\displaystyle F_{P} = - 2.0 F_{F} a \\sin{\\left(\\alpha \\right)} \\sin{\\left(\\theta \\right)}$"
      ],
      "text/plain": [
       "Eq(F_P, -2.0*F_F*a*sin(\\alpha)*sin(\\theta))"
      ]
     },
     "metadata": {},
     "output_type": "display_data"
    },
    {
     "data": {
      "text/latex": [
       "$\\displaystyle F_{Ax} = - \\frac{0.5 F_{F} a \\sin{\\left(\\theta \\right)} \\cos{\\left(\\alpha \\right)}}{l}$"
      ],
      "text/plain": [
       "Eq(F_{Ax}, -0.5*F_F*a*sin(\\theta)*cos(\\alpha)/l)"
      ]
     },
     "metadata": {},
     "output_type": "display_data"
    },
    {
     "data": {
      "text/latex": [
       "$\\displaystyle F_{Ay} = F_{F} a \\sin{\\left(\\alpha \\right)} \\sin{\\left(\\theta \\right)} - \\frac{0.5 F_{F} a \\cos{\\left(\\alpha \\right)} \\cos{\\left(\\theta \\right)}}{l} + 0.5 F_{F} \\sin{\\left(\\alpha \\right)}$"
      ],
      "text/plain": [
       "Eq(F_{Ay}, F_F*a*sin(\\alpha)*sin(\\theta) - 0.5*F_F*a*cos(\\alpha)*cos(\\theta)/l + 0.5*F_F*sin(\\alpha))"
      ]
     },
     "metadata": {},
     "output_type": "display_data"
    },
    {
     "data": {
      "text/latex": [
       "$\\displaystyle F_{Az} = F_{F} \\cos{\\left(\\alpha \\right)}$"
      ],
      "text/plain": [
       "Eq(F_{Az}, F_F*cos(\\alpha))"
      ]
     },
     "metadata": {},
     "output_type": "display_data"
    },
    {
     "data": {
      "text/latex": [
       "$\\displaystyle F_{Bx} = \\frac{0.5 F_{F} a \\sin{\\left(\\theta \\right)} \\cos{\\left(\\alpha \\right)}}{l}$"
      ],
      "text/plain": [
       "Eq(F_{Bx}, 0.5*F_F*a*sin(\\theta)*cos(\\alpha)/l)"
      ]
     },
     "metadata": {},
     "output_type": "display_data"
    },
    {
     "data": {
      "text/latex": [
       "$\\displaystyle F_{By} = F_{F} a \\sin{\\left(\\alpha \\right)} \\sin{\\left(\\theta \\right)} + \\frac{0.5 F_{F} a \\cos{\\left(\\alpha \\right)} \\cos{\\left(\\theta \\right)}}{l} + 0.5 F_{F} \\sin{\\left(\\alpha \\right)}$"
      ],
      "text/plain": [
       "Eq(F_{By}, F_F*a*sin(\\alpha)*sin(\\theta) + 0.5*F_F*a*cos(\\alpha)*cos(\\theta)/l + 0.5*F_F*sin(\\alpha))"
      ]
     },
     "metadata": {},
     "output_type": "display_data"
    }
   ],
   "source": [
    "solve_sum_zero([F_A_unknown, F_B_unknown, F_F_all_unknown, F_P], ['a', '\\\\theta', 'F_F'])"
   ]
  }
 ],
 "metadata": {
  "kernelspec": {
   "display_name": "Python 3",
   "language": "python",
   "name": "python3"
  },
  "language_info": {
   "codemirror_mode": {
    "name": "ipython",
    "version": 3
   },
   "file_extension": ".py",
   "mimetype": "text/x-python",
   "name": "python",
   "nbconvert_exporter": "python",
   "pygments_lexer": "ipython3",
   "version": "3.6.9"
  }
 },
 "nbformat": 4,
 "nbformat_minor": 4
}
