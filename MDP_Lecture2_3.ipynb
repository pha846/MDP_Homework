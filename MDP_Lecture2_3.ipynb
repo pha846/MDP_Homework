{
 "cells": [
  {
   "cell_type": "code",
   "execution_count": 45,
   "metadata": {},
   "outputs": [],
   "source": [
    "import sympy as sp"
   ]
  },
  {
   "cell_type": "code",
   "execution_count": 69,
   "metadata": {},
   "outputs": [],
   "source": [
    "N = sp.vector.CoordSys3D('N')"
   ]
  },
  {
   "cell_type": "code",
   "execution_count": 70,
   "metadata": {},
   "outputs": [],
   "source": [
    "class Node:\n",
    "    def __init__(self, tup):\n",
    "        x, y, z = tup\n",
    "        self.position = x*N.i + y*N.j + z*N.k\n",
    "        \n",
    "    def __sub__(self, other):\n",
    "        return self.position - other.position"
   ]
  },
  {
   "cell_type": "code",
   "execution_count": 104,
   "metadata": {},
   "outputs": [],
   "source": [
    "class Force:\n",
    "    def __init__(self, input1, input2):\n",
    "        \"\"\"\n",
    "        input1 must be a starting point/node\n",
    "        input2 can be another node to be an end point, or force vector\n",
    "        \"\"\"\n",
    "        assert type(input1) == Node\n",
    "        self.start_position = input1.position\n",
    "        self.unique_symbols = set()\n",
    "        \n",
    "        if type(input2) == Node:\n",
    "            diff_vector = input2 - input1\n",
    "            self.force_vector = diff_vector / np.linalg.norm(diff_vector)\n",
    "        elif type(input2) == sp.vector.vector.BaseVector:\n",
    "            self.force_vector = input2\n",
    "        else:\n",
    "            fx, fy, fz = input2\n",
    "            mx = my = mz = 1\n",
    "            if type(fx) == tuple:\n",
    "                mx, fx = fx\n",
    "            if type(fx) == str:\n",
    "                fx = sp.symbols(fx)\n",
    "                self.unique_symbols.add(fx)\n",
    "                \n",
    "            if type(fy) == tuple:\n",
    "                my, fy = fy\n",
    "            if type(fy) == str:\n",
    "                fy = sp.symbols(fy)\n",
    "                self.unique_symbols.add(fy)\n",
    "                \n",
    "            if type(fz) == tuple:\n",
    "                mz, fz = fz\n",
    "            if type(fz) == str:\n",
    "                fz = sp.symbols(fz)\n",
    "                self.unique_symbols.add(fz)\n",
    "                \n",
    "            self.force_vector = mx*fx*N.i + my*fy*N.j + mz*fz*N.k\n",
    "        self.torque_vector = sp.vector.cross(self.start_position, self.force_vector)"
   ]
  },
  {
   "cell_type": "code",
   "execution_count": 174,
   "metadata": {},
   "outputs": [],
   "source": [
    "def solve_sum_zero(forces_eq_0, exclude_list):\n",
    "    unique_symbols = set()\n",
    "    sym_zero = 0*(N.i+N.j+N.k)\n",
    "    force_eq_0 = 0*(N.i+N.j+N.k)\n",
    "    torque_eq_0 = 0*(N.i+N.j+N.k)\n",
    "    for i in forces_eq_0:\n",
    "        unique_symbols |= i.unique_symbols\n",
    "        force_eq_0 += i.force_vector\n",
    "        torque_eq_0 += i.torque_vector\n",
    "    for i in exclude_list:\n",
    "        unique_symbols.remove(sp.symbols(i))\n",
    "    symbols = list(unique_symbols)\n",
    "    equations = []\n",
    "    equations.append(sp.Eq(force_eq_0.components[N.i], 0))\n",
    "    equations.append(sp.Eq(force_eq_0.components[N.j], 0))\n",
    "    equations.append(sp.Eq(force_eq_0.components[N.k], 0))\n",
    "    equations.append(sp.Eq(torque_eq_0.components[N.i], 0))\n",
    "    equations.append(sp.Eq(torque_eq_0.components[N.j], 0))\n",
    "    equations.append(sp.Eq(torque_eq_0.components[N.k], 0))\n",
    "    solved = sp.solve(equations, symbols)\n",
    "    for k in sorted(list(solved.keys()), key=lambda x: str(x)):\n",
    "        display(sp.Eq(k, solved[k]))"
   ]
  },
  {
   "cell_type": "code",
   "execution_count": 143,
   "metadata": {},
   "outputs": [],
   "source": [
    "from IPython.display import display"
   ]
  },
  {
   "cell_type": "code",
   "execution_count": 133,
   "metadata": {},
   "outputs": [],
   "source": [
    "l = 1\n",
    "a = 0.5\n",
    "theta = np.deg2rad(30)\n",
    "alpha = np.deg2rad(30)\n",
    "mag_F_F = 10"
   ]
  },
  {
   "cell_type": "code",
   "execution_count": 79,
   "metadata": {},
   "outputs": [],
   "source": [
    "A = Node((0, 0, -l))\n",
    "B = Node((0, 0, l))\n",
    "D = Node((-a*np.sin(theta), -a*np.cos(theta), 0))\n",
    "E = Node((a, 0, 0))"
   ]
  },
  {
   "cell_type": "code",
   "execution_count": 170,
   "metadata": {},
   "outputs": [],
   "source": [
    "F_A = Force(A, ('F_{Ax}', 'F_{Ay}', 'F_{Az}'))\n",
    "F_B = Force(B, ('F_{Bx}', 'F_{By}', 0))\n",
    "F_F_known = Force(D, (0, -sp.sin(alpha)*mag_F_F, -sp.cos(alpha) * mag_F_F))\n",
    "F_F_unknown = Force(D, (0, (-sp.sin(alpha), 'F_F'),  (-sp.cos(alpha), 'F_F')))\n",
    "F_P = Force(E, (0, 'F_P', 0))"
   ]
  },
  {
   "cell_type": "code",
   "execution_count": 172,
   "metadata": {},
   "outputs": [
    {
     "data": {
      "text/latex": [
       "$\\displaystyle F_{P} = -2.5$"
      ],
      "text/plain": [
       "Eq(F_P, -2.5)"
      ]
     },
     "metadata": {},
     "output_type": "display_data"
    },
    {
     "data": {
      "text/latex": [
       "$\\displaystyle F_{Ax} = -1.08253175473055$"
      ],
      "text/plain": [
       "Eq(F_{Ax}, -1.08253175473055)"
      ]
     },
     "metadata": {},
     "output_type": "display_data"
    },
    {
     "data": {
      "text/latex": [
       "$\\displaystyle F_{Ay} = 1.875$"
      ],
      "text/plain": [
       "Eq(F_{Ay}, 1.875)"
      ]
     },
     "metadata": {},
     "output_type": "display_data"
    },
    {
     "data": {
      "text/latex": [
       "$\\displaystyle F_{Az} = 8.66025403784439$"
      ],
      "text/plain": [
       "Eq(F_{Az}, 8.66025403784439)"
      ]
     },
     "metadata": {},
     "output_type": "display_data"
    },
    {
     "data": {
      "text/latex": [
       "$\\displaystyle F_{Bx} = 1.08253175473055$"
      ],
      "text/plain": [
       "Eq(F_{Bx}, 1.08253175473055)"
      ]
     },
     "metadata": {},
     "output_type": "display_data"
    },
    {
     "data": {
      "text/latex": [
       "$\\displaystyle F_{By} = 5.625$"
      ],
      "text/plain": [
       "Eq(F_{By}, 5.625)"
      ]
     },
     "metadata": {},
     "output_type": "display_data"
    }
   ],
   "source": [
    "solve_sum_zero([F_A, F_B, F_F_known, F_P])"
   ]
  },
  {
   "cell_type": "code",
   "execution_count": 176,
   "metadata": {},
   "outputs": [
    {
     "data": {
      "text/latex": [
       "$\\displaystyle F_{P} = - 0.25 F_{F}$"
      ],
      "text/plain": [
       "Eq(F_P, -0.25*F_F)"
      ]
     },
     "metadata": {},
     "output_type": "display_data"
    },
    {
     "data": {
      "text/latex": [
       "$\\displaystyle F_{Ax} = - 0.108253175473055 F_{F}$"
      ],
      "text/plain": [
       "Eq(F_{Ax}, -0.108253175473055*F_F)"
      ]
     },
     "metadata": {},
     "output_type": "display_data"
    },
    {
     "data": {
      "text/latex": [
       "$\\displaystyle F_{Ay} = 0.1875 F_{F}$"
      ],
      "text/plain": [
       "Eq(F_{Ay}, 0.1875*F_F)"
      ]
     },
     "metadata": {},
     "output_type": "display_data"
    },
    {
     "data": {
      "text/latex": [
       "$\\displaystyle F_{Az} = 0.866025403784439 F_{F}$"
      ],
      "text/plain": [
       "Eq(F_{Az}, 0.866025403784439*F_F)"
      ]
     },
     "metadata": {},
     "output_type": "display_data"
    },
    {
     "data": {
      "text/latex": [
       "$\\displaystyle F_{Bx} = 0.108253175473055 F_{F}$"
      ],
      "text/plain": [
       "Eq(F_{Bx}, 0.108253175473055*F_F)"
      ]
     },
     "metadata": {},
     "output_type": "display_data"
    },
    {
     "data": {
      "text/latex": [
       "$\\displaystyle F_{By} = 0.5625 F_{F}$"
      ],
      "text/plain": [
       "Eq(F_{By}, 0.5625*F_F)"
      ]
     },
     "metadata": {},
     "output_type": "display_data"
    }
   ],
   "source": [
    "solve_sum_zero([F_A, F_B, F_F_unknown, F_P], ['F_F'])"
   ]
  }
 ],
 "metadata": {
  "kernelspec": {
   "display_name": "Python 3",
   "language": "python",
   "name": "python3"
  },
  "language_info": {
   "codemirror_mode": {
    "name": "ipython",
    "version": 3
   },
   "file_extension": ".py",
   "mimetype": "text/x-python",
   "name": "python",
   "nbconvert_exporter": "python",
   "pygments_lexer": "ipython3",
   "version": "3.6.9"
  }
 },
 "nbformat": 4,
 "nbformat_minor": 4
}
